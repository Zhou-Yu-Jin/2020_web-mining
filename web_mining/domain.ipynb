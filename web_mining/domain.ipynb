{
 "cells": [
  {
   "cell_type": "code",
   "execution_count": 1,
   "metadata": {
    "collapsed": true
   },
   "outputs": [],
   "source": [
    "import requests\n",
    "from bs4 import BeautifulSoup"
   ]
  },
  {
   "cell_type": "code",
   "execution_count": 2,
   "metadata": {
    "pycharm": {
     "name": "#%%\n"
    }
   },
   "outputs": [],
   "source": [
    "def getHtmlText(url):\n",
    "    r = requests.get(url)\n",
    "    r.encoding = r.apparent_encoding\n",
    "    return r.text"
   ]
  },
  {
   "cell_type": "code",
   "execution_count": 3,
   "metadata": {
    "pycharm": {
     "name": "#%%\n"
    }
   },
   "outputs": [],
   "source": [
    "# rooturl = \"http://gzw.fujian.gov.cn/ztzl/xxxcgcddsjdjs/xxzl_12064/\"\n",
    "# html = getHtmlText(rooturl)\n",
    "# soup = BeautifulSoup( html , \"html.parser\")\n",
    "# print(soup)"
   ]
  },
  {
   "cell_type": "code",
   "execution_count": 4,
   "metadata": {
    "pycharm": {
     "name": "#%%\n"
    }
   },
   "outputs": [
    {
     "name": "stdout",
     "output_type": "stream",
     "text": [
      "['http://gzw.fujian.gov.cn/ztzl/xxxcgcddsjdjs/xxzl_12064//./201810/t20181022_4547123.htm', 'http://gzw.fujian.gov.cn/ztzl/xxxcgcddsjdjs/xxzl_12064//./201810/t20181022_4547122.htm', 'http://gzw.fujian.gov.cn/ztzl/xxxcgcddsjdjs/xxzl_12064//./201810/t20181022_4547121.htm', 'http://gzw.fujian.gov.cn/ztzl/xxxcgcddsjdjs/xxzl_12064//./201810/t20181022_4547120.htm', 'http://gzw.fujian.gov.cn/ztzl/xxxcgcddsjdjs/xxzl_12064//./201810/t20181022_4547119.htm', 'http://gzw.fujian.gov.cn/ztzl/xxxcgcddsjdjs/xxzl_12064//./201810/t20181022_4547118.htm', 'http://gzw.fujian.gov.cn/ztzl/xxxcgcddsjdjs/xxzl_12064//./201810/t20181022_4547117.htm', 'http://gzw.fujian.gov.cn/ztzl/xxxcgcddsjdjs/xxzl_12064//./201810/t20181022_4547116.htm', 'http://gzw.fujian.gov.cn/ztzl/xxxcgcddsjdjs/xxzl_12064//./201810/t20181022_4547115.htm', 'http://gzw.fujian.gov.cn/ztzl/xxxcgcddsjdjs/xxzl_12064//./201810/t20181022_4547114.htm', 'http://gzw.fujian.gov.cn/ztzl/xxxcgcddsjdjs/xxzl_12064//./201810/t20181022_4547113.htm', 'http://gzw.fujian.gov.cn/ztzl/xxxcgcddsjdjs/xxzl_12064//./201810/t20181022_4547111.htm', 'http://gzw.fujian.gov.cn/ztzl/xxxcgcddsjdjs/xxzl_12064//./201810/t20181022_4547110.htm', 'http://gzw.fujian.gov.cn/ztzl/xxxcgcddsjdjs/xxzl_12064//./201810/t20181022_4547109.htm', 'http://gzw.fujian.gov.cn/ztzl/xxxcgcddsjdjs/xxzl_12064//./201810/t20181022_4547108.htm', 'http://gzw.fujian.gov.cn/ztzl/xxxcgcddsjdjs/xxzl_12064//./201810/t20181022_4547107.htm', 'http://gzw.fujian.gov.cn/ztzl/xxxcgcddsjdjs/xxzl_12064//./201810/t20181022_4547105.htm', 'http://gzw.fujian.gov.cn/ztzl/xxxcgcddsjdjs/xxzl_12064//./201810/t20181022_4547104.htm', 'http://gzw.fujian.gov.cn/ztzl/xxxcgcddsjdjs/xxzl_12064//./201810/t20181022_4547103.htm', 'http://gzw.fujian.gov.cn/ztzl/xxxcgcddsjdjs/xxzl_12064//./201810/t20181022_4547102.htm']\n",
      "['第三十讲 坚持用习近平新时代中国特色社会主义思想武装全党', '第二十九讲 努力掌握马克思主义思想方法和工作方法', '第二十八讲 毫不动摇把党建设得更加坚强有力', '第二十七讲 促进“一带一路”国际合作', '第二十六讲 构建人类命运共同体', '第二十五讲 坚持“一国两制”和推进祖国统一', '第二十四讲 把人民军队全面建成世界一流军队', '第二十三讲 坚持总体国家安全观', '第二十二讲 建设美丽中国', '第二十一讲 打造共建共治共享的社会治理格局', '第二十讲 在发展中保障和改善民生', '第十九讲 建设具有强大凝聚力和引领力的社会主义意识形态', '第十八讲 推动社会主义文化繁荣兴盛', '第十七讲 加快建设社会主义法治国家', '第十六讲 社会主义协商民主广泛多层制度化发展', '第十五讲 用更加健全的制度体系保证人民当家作主', '第十四讲 形成全面开放新格局', '第十三讲 实现我国经济高质量发展', '第十二讲 开启全面建设社会主义现代化国家新征程', '第十一讲 决胜全面建成小康社会']\n"
     ]
    }
   ],
   "source": [
    "rooturl = \"http://gzw.fujian.gov.cn/ztzl/xxxcgcddsjdjs/xxzl_12064/\"\n",
    "html = getHtmlText(rooturl)\n",
    "soup = BeautifulSoup( html , \"html.parser\")\n",
    "uls = soup.find_all(name= \"div\", attrs= {\"class\" : \"newslist\" })\n",
    "# print((type(uls[0])))\n",
    "# print(uls)\n",
    "urls = [] # 存储新的url\n",
    "titles = [] # 标题\n",
    "for child in uls:\n",
    "    hrefs = child.find_all(name= 'a')\n",
    "    # print(hrefs) # 观察超链接\n",
    "    # print(len(hrefs)) # 寻找判定条件\n",
    "    if len(hrefs) > 1:\n",
    "        for a in hrefs:\n",
    "            # print(type(a))\n",
    "            # print(a.attrs)\n",
    "            seq = (rooturl, a.attrs[\"href\"])\n",
    "            urls.append('/'.join(seq))\n",
    "            titles.append(a.attrs[\"title\"])\n",
    "\n",
    "print(urls)\n",
    "print(titles)"
   ]
  },
  {
   "cell_type": "code",
   "execution_count": 5,
   "metadata": {
    "pycharm": {
     "name": "#%%\n"
    }
   },
   "outputs": [
    {
     "name": "stdout",
     "output_type": "stream",
     "text": [
      "['http://gzw.fujian.gov.cn/ztzl/xxxcgcddsjdjs/xxzl_12064//./201810/t20181022_4547123.htm', 'http://gzw.fujian.gov.cn/ztzl/xxxcgcddsjdjs/xxzl_12064//./201810/t20181022_4547122.htm', 'http://gzw.fujian.gov.cn/ztzl/xxxcgcddsjdjs/xxzl_12064//./201810/t20181022_4547121.htm', 'http://gzw.fujian.gov.cn/ztzl/xxxcgcddsjdjs/xxzl_12064//./201810/t20181022_4547120.htm', 'http://gzw.fujian.gov.cn/ztzl/xxxcgcddsjdjs/xxzl_12064//./201810/t20181022_4547119.htm', 'http://gzw.fujian.gov.cn/ztzl/xxxcgcddsjdjs/xxzl_12064//./201810/t20181022_4547118.htm', 'http://gzw.fujian.gov.cn/ztzl/xxxcgcddsjdjs/xxzl_12064//./201810/t20181022_4547117.htm', 'http://gzw.fujian.gov.cn/ztzl/xxxcgcddsjdjs/xxzl_12064//./201810/t20181022_4547116.htm', 'http://gzw.fujian.gov.cn/ztzl/xxxcgcddsjdjs/xxzl_12064//./201810/t20181022_4547115.htm', 'http://gzw.fujian.gov.cn/ztzl/xxxcgcddsjdjs/xxzl_12064//./201810/t20181022_4547114.htm', 'http://gzw.fujian.gov.cn/ztzl/xxxcgcddsjdjs/xxzl_12064//./201810/t20181022_4547113.htm', 'http://gzw.fujian.gov.cn/ztzl/xxxcgcddsjdjs/xxzl_12064//./201810/t20181022_4547111.htm', 'http://gzw.fujian.gov.cn/ztzl/xxxcgcddsjdjs/xxzl_12064//./201810/t20181022_4547110.htm', 'http://gzw.fujian.gov.cn/ztzl/xxxcgcddsjdjs/xxzl_12064//./201810/t20181022_4547109.htm', 'http://gzw.fujian.gov.cn/ztzl/xxxcgcddsjdjs/xxzl_12064//./201810/t20181022_4547108.htm', 'http://gzw.fujian.gov.cn/ztzl/xxxcgcddsjdjs/xxzl_12064//./201810/t20181022_4547107.htm', 'http://gzw.fujian.gov.cn/ztzl/xxxcgcddsjdjs/xxzl_12064//./201810/t20181022_4547105.htm', 'http://gzw.fujian.gov.cn/ztzl/xxxcgcddsjdjs/xxzl_12064//./201810/t20181022_4547104.htm', 'http://gzw.fujian.gov.cn/ztzl/xxxcgcddsjdjs/xxzl_12064//./201810/t20181022_4547103.htm', 'http://gzw.fujian.gov.cn/ztzl/xxxcgcddsjdjs/xxzl_12064//./201810/t20181022_4547102.htm', 'http://gzw.fujian.gov.cn/ztzl/xxxcgcddsjdjs/xxzl_12064/201810/t20181022_4547093.htm', 'http://gzw.fujian.gov.cn/ztzl/xxxcgcddsjdjs/xxzl_12064/201810/t20181022_4547091.htm', 'http://gzw.fujian.gov.cn/ztzl/xxxcgcddsjdjs/xxzl_12064/201810/t20181022_4547090.htm', 'http://gzw.fujian.gov.cn/ztzl/xxxcgcddsjdjs/xxzl_12064/201810/t20181022_4547089.htm', 'http://gzw.fujian.gov.cn/ztzl/xxxcgcddsjdjs/xxzl_12064/201810/t20181022_4547087.htm', 'http://gzw.fujian.gov.cn/ztzl/xxxcgcddsjdjs/xxzl_12064/201810/t20181022_4547086.htm', 'http://gzw.fujian.gov.cn/ztzl/xxxcgcddsjdjs/xxzl_12064/201810/t20181022_4547082.htm', 'http://gzw.fujian.gov.cn/ztzl/xxxcgcddsjdjs/xxzl_12064/201810/t20181022_4547078.htm', 'http://gzw.fujian.gov.cn/ztzl/xxxcgcddsjdjs/xxzl_12064/201810/t20181022_4547076.htm', 'http://gzw.fujian.gov.cn/ztzl/xxxcgcddsjdjs/xxzl_12064/201810/t20181022_4547065.htm', 'http://gzw.fujian.gov.cn/ztzl/xxxcgcddsjdjs/xxzl_12064/201810/t20181022_4547031.htm', 'http://gzw.fujian.gov.cn/ztzl/xxxcgcddsjdjs/xxzl_12064/201801/t20180116_3659212.htm', 'http://gzw.fujian.gov.cn/ztzl/xxxcgcddsjdjs/xxzl_12064/201801/t20180116_3659211.htm', 'http://gzw.fujian.gov.cn/ztzl/xxxcgcddsjdjs/xxzl_12064/201801/t20180116_3659210.htm', 'http://gzw.fujian.gov.cn/ztzl/xxxcgcddsjdjs/xxzl_12064/201801/t20180116_3659209.htm', 'http://gzw.fujian.gov.cn/ztzl/xxxcgcddsjdjs/xxzl_12064/201801/t20180116_3659208.htm']\n",
      "['第三十讲 坚持用习近平新时代中国特色社会主义思想武装全党', '第二十九讲 努力掌握马克思主义思想方法和工作方法', '第二十八讲 毫不动摇把党建设得更加坚强有力', '第二十七讲 促进“一带一路”国际合作', '第二十六讲 构建人类命运共同体', '第二十五讲 坚持“一国两制”和推进祖国统一', '第二十四讲 把人民军队全面建成世界一流军队', '第二十三讲 坚持总体国家安全观', '第二十二讲 建设美丽中国', '第二十一讲 打造共建共治共享的社会治理格局', '第二十讲 在发展中保障和改善民生', '第十九讲 建设具有强大凝聚力和引领力的社会主义意识形态', '第十八讲 推动社会主义文化繁荣兴盛', '第十七讲 加快建设社会主义法治国家', '第十六讲 社会主义协商民主广泛多层制度化发展', '第十五讲 用更加健全的制度体系保证人民当家作主', '第十四讲 形成全面开放新格局', '第十三讲 实现我国经济高质量发展', '第十二讲 开启全面建设社会主义现代化国家新征程', '第十一讲 决胜全面建成小康社会', '第十讲 坚定不移贯彻新发展理念', '第九讲 将全面深化改革进行到底', '第八讲 以人民为中心是新时代坚持和发展中国特色社会主义根本立场', '第七讲 坚持党对一切工作的领导', '第六讲 我国社会主要矛盾的变化是关系全局的历史性变化', '第五讲 中国特色社会主义新时代标示我国发展新的历史方位', '第四讲 党和国家事业历史性、根本性的变革和成就', '第三讲 实现中华民族伟大复兴是近代以来中华民族最伟大的梦想', '第二讲 坚持和发展中国特色社会主义是当代中国发展进步的根本方向', '第一讲 习近平新时代中国特色社会主义思想是党和国家必须长期坚持的指导思想', '人民日报发表肖亚庆署名文章：深化国有企业改革', '中国共产党章程', '习近平：决胜全面建成小康社会 夺取新时代中国特色社会主义伟大胜利——在中国共产党第十九次全国代表大会上的报告', '一张图，带你看懂十九大报告', '进入新时代 谱写新篇章（解读报告）', '划重点！十九大报告有这些“新”']\n"
     ]
    }
   ],
   "source": [
    "#新一页\n",
    "\n",
    "tempurl = 'http://gzw.fujian.gov.cn/was5/web/search?channelid=277442&sortfield=-DOCORDERPRI%2C-DOCRELTIME&classsql=chnlid%3D12064&prepage=20&page=2'\n",
    "r = requests.get(tempurl)\n",
    "r.encoding = r.apparent_encoding\n",
    "html = r.json()\n",
    "# print(html)\n",
    "docs = html['docs']\n",
    "for i in range(0, 16):\n",
    "    urls.append(docs[i]['url'])\n",
    "    titles.append(docs[i][\"title\"])\n",
    "print(urls)\n",
    "print(titles)"
   ]
  },
  {
   "cell_type": "code",
   "execution_count": 6,
   "metadata": {
    "pycharm": {
     "name": "#%%\n"
    }
   },
   "outputs": [],
   "source": [
    "articles = []\n",
    "times = []\n",
    "sources = []\n",
    "for url in urls:\n",
    "    html = getHtmlText(url)\n",
    "    # print(html)\n",
    "    soup = BeautifulSoup( html , \"html.parser\")\n",
    "    time = soup.find(name='meta', attrs= {\"name\" : \"PubDate\"})\n",
    "    # print(time['content'])\n",
    "    times.append(time['content'])\n",
    "    source = soup.find(name='meta', attrs= {\"name\" : \"ContentSource\"})\n",
    "    sources.append(source['content'])\n",
    "    # contents = soup.find_all(name= \"p\",attrs= {\"align\" : \"justify\" })\n",
    "    contents = soup.find_all(name= \"p\")\n",
    "    # print(type(contents))\n",
    "    str = \"文章：\"\n",
    "    for content in contents:\n",
    "        if content.string is not None :\n",
    "            # print(len(content.string))\n",
    "            str = str + content.string\n",
    "    # print(len(str))\n",
    "    articles.append(str)"
   ]
  },
  {
   "cell_type": "code",
   "execution_count": 7,
   "metadata": {
    "pycharm": {
     "name": "#%%\n"
    }
   },
   "outputs": [
    {
     "name": "stdout",
     "output_type": "stream",
     "text": [
      "ok\n"
     ]
    }
   ],
   "source": [
    "# print(len(articles))\n",
    "# print(articles[2])\n",
    "#输出到excel\n",
    "output = open('data.xls','w',encoding='gb18030')\n",
    "output.write('链接')\n",
    "output.write('\\t')\n",
    "output.write('时间')\n",
    "output.write('\\t')\n",
    "output.write('来源')\n",
    "output.write('\\t')\n",
    "output.write('标题')\n",
    "output.write('\\t')\n",
    "output.write('文章')\n",
    "output.write('\\n')\n",
    "for i in range(len(urls)):\n",
    "    # print(i)\n",
    "    output.write(urls[i])\n",
    "    output.write('\\t')\n",
    "    output.write(times[i])\n",
    "    output.write('\\t')\n",
    "    output.write(sources[i])\n",
    "    output.write('\\t')\n",
    "    # gbk_str = titles[i].encode('gbk').decode('gbk')\n",
    "    output.write(titles[i])\n",
    "    output.write('\\t')\n",
    "    # gbk_str = articles[i].encode('utf-8').decode('utf-8')\n",
    "    output.write(articles[i])\n",
    "    output.write('\\n')\n",
    "output.close()\n",
    "print(\"ok\")"
   ]
  },
  {
   "cell_type": "code",
   "execution_count": 8,
   "metadata": {
    "pycharm": {
     "name": "#%%\n"
    }
   },
   "outputs": [
    {
     "name": "stdout",
     "output_type": "stream",
     "text": [
      "csv ok\n"
     ]
    }
   ],
   "source": [
    "import  pandas as pd\n",
    "name = ['链接', '时间', '来源', '标题', '文章']\n",
    "# data = [urls, times, sources, titles, articles]\n",
    "data = []\n",
    "for i in range(0,len(urls)):\n",
    "    temp = []\n",
    "    temp.append(urls)\n",
    "    temp.append(times)\n",
    "    temp.append(sources)\n",
    "    temp.append(titles)\n",
    "    temp.append(articles)\n",
    "    data.append(temp)\n",
    "\n",
    "csv_data = pd.DataFrame(columns=name, data=data)\n",
    "csv_data.to_csv('csv_data.csv')\n",
    "print(\"csv ok\")\n"
   ]
  }
 ],
 "metadata": {
  "kernelspec": {
   "display_name": "Python 3",
   "language": "python",
   "name": "python3"
  },
  "language_info": {
   "codemirror_mode": {
    "name": "ipython",
    "version": 3
   },
   "file_extension": ".py",
   "mimetype": "text/x-python",
   "name": "python",
   "nbconvert_exporter": "python",
   "pygments_lexer": "ipython3",
   "version": "3.7.4"
  }
 },
 "nbformat": 4,
 "nbformat_minor": 1
}
